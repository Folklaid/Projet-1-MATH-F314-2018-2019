{
 "cells": [
  {
   "cell_type": "markdown",
   "metadata": {},
   "source": [
    "# Projet n°1 Math F314: Pendule Double \n",
    "\n",
    "#### HOUYOUX Guillaume, BROISSIN Jérémy\n",
    "\n",
    "\n",
    "Ce premier projet à pour but d'étudier un problème physique assez connu: le pendule double. Dans un premier lieu nous allons nous intéresser à sa résolution de manière quadratique à quadrature près puis nous allons résoudre le problème de manière numérique grâce à la fonction Rk4, que nous expliciterons aussi de manière théorique afin de mieux comprendre la résolution numérique au problème."
   ]
  },
  {
   "cell_type": "markdown",
   "metadata": {},
   "source": [
    "## *I.Introduction*\n",
    "\n",
    "En physique théorique, du moins pour introduire le principe d'oscillation, on étudie un phénomène courant dans la vie: le pendule simple. En effet, ce problème permettait notamment de savoir calculer la constante de gravitation $g$ juste en fonction de la longueur du pendule. De plus, on pouvait expliquer les phénomènes de période, ce qui a permis par la suite de créer des horloge se basant sur ce phénomène d'oscillation, indiquant ainsi d'une manière suffisamment précise, la mesure du temps. \n",
    "\n",
    "En premier lieu, ce problème fût traiter par des équations vectorielles avant l'arrivée de la théorie Lagrangienne et Hamiltonienne, où là on étudie en fonction de la différence d'énergies cinétique et potentielle ainsi que de l'énergie totale du système physique respectivement. \n",
    "La théorie Lagrangienne  nous a permis par la suite d'étudier un problème plus compliqué à résoudre de manière vectorielle: le pendule double. Ici nous allons donc décrire le problème d'un point de vue Lagrangien afin de tirer les équations du mouvements et ainsi résoudre le problème de manière quadratique à quadrature près.\n"
   ]
  },
  {
   "cell_type": "markdown",
   "metadata": {},
   "source": [
    "## *II.Pendule Double: Résolution quadratique*\n",
    "\n",
    "On a le schéma suivant réprésentant le problème.\n",
    "\n",
    "<img src=\"pendule_double.png\" alt=\"Schéma Pendule Double\" width=\"250\" height=\"250\">\n",
    "*Figure 1: Schéma du Pendule double*\n",
    "\n",
    "On se positionne donc avec deux tiges de longueur $l$ chacune, on suppose que la masse est uniformément répartie dans chacune des tiges, donc on peut s'interessé directement au centre de chaque tige pour étudier le mouvement global. Avec ceci et le schéma ci-dessus, on a:\n",
    "$$x_1= \\frac{l}{2}sin(\\theta_1)$$\n",
    "$$y_1= \\frac{-l}{2}cos(\\theta_1)$$\n",
    "$$x_2= l[sin(\\theta_1)+ \\frac{1}{2}sin(\\theta_2)]$$\n",
    "$$y_2= -l[cos(\\theta_1)+ \\frac{1}{2}cos(\\theta_2)]$$\n",
    "\n",
    "On a que la longueur $l$ ne dépend pas du temps, on que les coordonnées $x_1,y_1,x_2,y_2,\\theta_1,\\theta_2$ qui dépendent du temps. On peut donc dériver les expressions ci-dessus pour étudier la vitesse des points, ce qui nous permettra par la suite de construire l'énergie cinétique du système. Cela nous donne de manière plus explicite: \n",
    "$$\\dot{x_1}= \\frac{l}{2}\\dot{\\theta_1}cos(\\theta_1)$$\n",
    "$$\\dot{y_1}= \\frac{l}{2}\\dot{\\theta_1}sin(\\theta_1)$$\n",
    "$$\\dot{x_2}= l[\\dot{\\theta_1}cos(\\theta_1) + \\frac{1}{2}\\dot{\\theta_2}cos(\\theta_2)]$$\n",
    "$$\\dot{y_2}= l[\\dot{\\theta_1}sin(\\theta_1) + \\frac{1}{2}\\dot{\\theta_2}sin(\\theta_2)]$$\n",
    "\n",
    "On peut donc écrire l'énergie cinétique et l'énergie potentielle en fonction de $\\theta_1$ et $\\theta_2$, ce qui simplifiera leurs expressions. Prenons aussi en compte aussi le moment d'inertie $I= \\frac{1}{12}ml^2$ qui sera intervient dans l'énergie cinétique. \n",
    "\n",
    "Avec ces informations, on peut calculer $T$: \n",
    "$$T= \\frac{1}{2}m(\\dot{x_1}^2 + \\dot{x_2}^2 + \\dot{y_1}^2 + \\dot{y_2}^2) + \\frac{1}{2}I(\\dot{\\theta_1}^2 + \\dot{\\theta_2}^2)$$\n",
    "$$T= \\frac{1}{2}m \\bigg[\\frac{l^2}{4}\\dot{\\theta_1}^2 + l^2\\bigg(\\dot{\\theta_1}^2cos^2(\\theta_1) +\\dot{\\theta_1}\\dot{\\theta_2}cos(\\theta_1)cos(\\theta_2) + \\frac{1}{4}\\dot{\\theta_2}^2cos^2(\\theta_2)\\bigg) + l^2\\bigg(\\dot{\\theta_1}^2sin^2(\\theta_1) +\\dot{\\theta_1}\\dot{\\theta_2}sin(\\theta_1)sin(\\theta_2) + \\frac{1}{4}\\dot{\\theta_2}^2sin^2(\\theta_2)\\bigg)\\bigg] + \\frac{1}{2}I(\\dot{\\theta_1}^2 + \\dot{\\theta_2}^2) $$\n",
    "Ce qui nous donne en simplifiant: \n",
    "$$T(\\dot{\\theta_1},\\dot{\\theta_2})= \\frac{2}{3}ml^2\\dot{\\theta_1}^2 + \\frac{1}{2}ml^2\\dot{\\theta_1}\\dot{\\theta_2}cos(\\theta_1 - \\theta_2) + \\frac{1}{6}ml^2\\dot{\\theta_2}^2$$\n",
    "\n",
    "De même, on peut calculer $V$: \n",
    "$$V= mg(y_1+y_2)$$\n",
    "$$V(\\theta_1,\\theta_2) = -\\frac{l}{2}mg \\big(3cos(\\theta_1) + cos(\\theta_2) \\big)$$\n",
    "\n",
    "On peut donc calculer le Lagrangien $\\mathcal{L}=T-V$:\n",
    "\n",
    "$$\\mathcal{L}(\\theta_1,\\dot{\\theta_1},\\theta_2,\\dot{\\theta_2})= \\frac{l^2}{6}m \\bigg[4\\dot{\\theta_1}^2 + \\dot{\\theta_2}^2 + 3\\dot{\\theta_1}\\dot{\\theta_2}cos(\\theta_1 -\\theta_2)\\bigg] + \\frac{l}{2}mg\\bigg(3cos(\\theta_1)+cos(\\theta_2)\\bigg)$$\n",
    "\n",
    "En cours de mécanique analytique en BA2, on vu que pour étudier les mouvements d'un système physique, il fallait optimiser la fonctionelle qu'est l'action:$$ S= \\displaystyle{\\int_{t_1}^{t_2}} \\mathcal{L}(\\theta_1,\\dot{\\theta_1},\\theta_2,\\dot{\\theta_2}) dt $$"
   ]
  },
  {
   "cell_type": "code",
   "execution_count": null,
   "metadata": {
    "collapsed": true
   },
   "outputs": [],
   "source": []
  }
 ],
 "metadata": {
  "anaconda-cloud": {},
  "kernelspec": {
   "display_name": "Python [default]",
   "language": "python",
   "name": "python3"
  },
  "language_info": {
   "codemirror_mode": {
    "name": "ipython",
    "version": 3
   },
   "file_extension": ".py",
   "mimetype": "text/x-python",
   "name": "python",
   "nbconvert_exporter": "python",
   "pygments_lexer": "ipython3",
   "version": "3.5.2"
  }
 },
 "nbformat": 4,
 "nbformat_minor": 1
}
