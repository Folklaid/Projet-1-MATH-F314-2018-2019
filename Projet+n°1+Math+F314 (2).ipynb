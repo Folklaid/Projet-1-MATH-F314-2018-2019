{
 "cells": [
  {
   "cell_type": "markdown",
   "metadata": {},
   "source": [
    "# Projet n°1 Math F314: Pendule Double "
   ]
  },
  {
   "cell_type": "markdown",
   "metadata": {},
   "source": [
    "#### HOUYOUX Guillaume, BROISSIN Jérémy\n",
    "\n",
    "\n",
    "Ce premier projet à pour but d'étudier un problème physique assez connu: le pendule double. Dans un premier lieu nous allons nous intéresser à sa résolution de manière quadratique à quadrature près puis nous allons résoudre le problème de manière numérique grâce à la fonction Rk4, que nous expliciterons aussi de manière théorique afin de mieux comprendre la résolution numérique au problème."
   ]
  },
  {
   "cell_type": "markdown",
   "metadata": {},
   "source": [
    "## *I.Introduction*\n",
    "\n",
    "En physique théorique, du moins pour introduire le principe d'oscillation, on étudie un phénomène courant dans la vie: le pendule simple. En effet, ce problème permettait notamment de savoir calculer la constante de gravitation $g$ juste en fonction de la longueur du pendule. De plus, on pouvait expliquer les phénomènes de période, ce qui a permis par la suite de créer des horloge se basant sur ce phénomène d'oscillation, indiquant ainsi d'une manière suffisamment précise, la mesure du temps. \n",
    "\n",
    "En premier lieu, ce problème fût traiter par des équations vectorielles avant l'arrivée de la théorie Lagrangienne et Hamiltonienne, où là on étudie en fonction de la différence d'énergies cinétique et potentielle ainsi que de l'énergie totale du système physique respectivement. \n",
    "La théorie Lagrangienne et Hamiltonienne nous a permis par la suite d'étudier un problème plus compliqué à résoudre de manière vectorielle: le pendule double. Ici nous allons donc décrire le problème d'un point de vue Lagrangien et Hamiltonien afin de tirer les équations du mouvements et ainsi résoudre le problème de manière quadratique à quadrature près.\n"
   ]
  },
  {
   "cell_type": "markdown",
   "metadata": {},
   "source": [
    "## *II.Pendule Double: Résolution numérique*\n",
    "\n",
    "On a le schéma suivant réprésentant le problème.\n",
    "\n",
    "[Insert Image]\n",
    "\n",
    "On se positionne donc avec deux tiges de longueur $l$ chacune, on suppose que la masse est uniformément répartie dans chacune des tiges, donc on peut s'interessé directement au centre de chaque tige pour étudier le mouvement global. Avec ceci et le schéma ci-dessus, on a:\n",
    "$$\n",
    "x_1= \\frac{l}{2}sin(\\theta_1) \\\\\n",
    "y_1= \\frac{-l}{2}cos(\\theta_1) \\\\\n",
    "x_2= l(sin(\\theta_1)+ \\frac{l}{2}sin(\\theta_2) \\\\\n",
    "y_2= -l(cos(\\theta_1)+ \\frac{l}{2}cos(\\theta_2)\n",
    "$$\n",
    "On a que la longueur $l$ ne dépend pas du temps, on que les coordonnées $x_1,y_1,x_2,y_2,\\theta_1,\\theta_2$ qui dépendent du temps. On peut donc dériver les expressions ci-dessus pour étudier la vitesse des points, ce qui nous permettra par la suite de construire l'énergie cinétique du système. "
   ]
  },
  {
   "cell_type": "code",
   "execution_count": null,
   "metadata": {
    "collapsed": true
   },
   "outputs": [],
   "source": []
  }
 ],
 "metadata": {
  "kernelspec": {
   "display_name": "Python [default]",
   "language": "python",
   "name": "python3"
  },
  "language_info": {
   "codemirror_mode": {
    "name": "ipython",
    "version": 3
   },
   "file_extension": ".py",
   "mimetype": "text/x-python",
   "name": "python",
   "nbconvert_exporter": "python",
   "pygments_lexer": "ipython3",
   "version": "3.5.2"
  }
 },
 "nbformat": 4,
 "nbformat_minor": 1
}
